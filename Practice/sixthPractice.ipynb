{
 "cells": [
  {
   "cell_type": "markdown",
   "id": "b6bee895",
   "metadata": {},
   "source": [
    "# Рабочая тетрадь №7\n",
    "## Петраченко С.Д. БАСО-04-20"
   ]
  },
  {
   "cell_type": "markdown",
   "id": "cf7d944e",
   "metadata": {},
   "source": [
    "### Теоретический материал – Нейронные сети\n",
    "\n",
    "Обучение персептрона\n",
    "\n",
    "Персептрон представляет собой элементарную часть нейронной сети. Одиночный персептрон является линейным бинарным классификатором. В этой лекции мы рассмотрим процедуру обучения персептрона для классификации данных. Поскольку персептрон представляет собой бинарный классификатор, то мы будем рассматривать лишь два класса.\n",
    "\n",
    "Пусть мы рассматриваем некоторое множество (конечное или бесконечное) n-мерных векторов, которые будем обозначать x=(x_1,x_2,...,x_n)\n",
    "\n",
    "Будем считать, что это множество разбивается на два класса, которые мы будем обозначать +1 и -1. Поэтому возникает задача построения функции, которая задана на нашем множестве векторов, и принимает значения в множестве {+1,-1}. В качестве такой функции может выступать персептрон. С алгебраической точки зрения персептрон состоит из вектора весов w=(w_0,w_1,w_2,...,w_n).\n",
    "\n",
    "При этом персептрон работает по формуле\n",
    "\n",
    "    y=sign(w_0  + x_1 w_1  + x_2 w_2  + ...+ x_n w_n),\n",
    "где функция sign(t) равна +1, если t ≥ 0, и равна -1, если t < 0.\n",
    "\n",
    "Приведем алгоритм обучения персептрона. Пусть у нас есть набор обучающих данных {(x,d)}, где x - это различные вектора, а d из множества {+1,-1} указывает к какому классу относится наш вектор.\n",
    "\n",
    "1. Положим вектор весов w равным нулю.\n",
    "2. Повторять N раз следующие шаги:    \n",
    "3. Для каждого тестового набора (x,d):\n",
    "4. Вычислить y = sing[(x,w)].\n",
    "5. Если yd < 0, то скорректировать веса w_0  = w_0  + ad,w_i  = w_i  + adx_i,i = 1,2,...,n. \n",
    "    \n",
    "Описанный алгоритм довольно легко программировать."
   ]
  },
  {
   "cell_type": "markdown",
   "id": "e62c546e",
   "metadata": {},
   "source": [
    "### 1.1.1 Пример\n",
    "Рассмотрим программу обучения персептрона на языке Python. Сначала рассмотрим основной класс персептрона, который умеет учиться по тестовым данным:"
   ]
  },
  {
   "cell_type": "code",
   "execution_count": 1,
   "id": "9e76cf44",
   "metadata": {},
   "outputs": [],
   "source": [
    "# класс, который реализует перспетрон и его обучение \n",
    "class Perceptron:\n",
    "    def __init__(self,N):\n",
    "        # создать нулевые веса\n",
    "        self.w = list()\n",
    "        for i in range(N):\n",
    "            self.w.append(0)\n",
    "    # метод для вычисления значения перспетрона\n",
    "    def calc(self,x):\n",
    "        res = 0\n",
    "        for i in range(len(self.w)):\n",
    "            res = res + self.w[i]*x[i]\n",
    "        return res\n",
    "    # пороговая функция активации персептрона\n",
    "    def sign(self,x):\n",
    "        if self.calc(x)>0:\n",
    "            return 1\n",
    "        else:\n",
    "            return -1\n",
    "    # обучение на одном примере\n",
    "    def learn(self,la,x,y):\n",
    "        # обучаем только, когда результат неверный\n",
    "        if y*self.calc(x)<=0:\n",
    "            for i in range(len(self.w)):\n",
    "                self.w[i] = self.w[i]+la*y*x[i]\n",
    "    # обучение по всем данным T - кортеж примеров\n",
    "    def learning(self,la,T):\n",
    "        for n in range(100):\n",
    "            # обучение по всем набору примеров \n",
    "            for t in T:\n",
    "                self.learn(la,t[0],t[1])"
   ]
  },
  {
   "cell_type": "markdown",
   "id": "2e323894",
   "metadata": {},
   "source": [
    "В строке 25 мы осуществляем корректировку весов. Посмотрим, как учится\n",
    "и работает наш персептрон"
   ]
  },
  {
   "cell_type": "code",
   "execution_count": 2,
   "id": "39f037ae",
   "metadata": {},
   "outputs": [
    {
     "name": "stdout",
     "output_type": "stream",
     "text": [
      "[0.1, -0.1]\n",
      "-1\n",
      "1\n",
      "1\n",
      "-1\n"
     ]
    }
   ],
   "source": [
    "# создаем класс двумерного персептрона\n",
    "perceptron = Perceptron(2)\n",
    "la = 0.1 # консанта обучения\n",
    "# создаем примеры\n",
    "T=list()\n",
    "T.append([[2,1], 1])\n",
    "T.append([[3,2], 1])\n",
    "T.append([[4,1], 1])\n",
    "T.append([[1,2], -1])\n",
    "T.append([[2,3], -1])\n",
    "T.append([[5,7], -1])\n",
    "perceptron.learning(la,T) # обучение перспетрона\n",
    "print(perceptron.w) # печатаем веса\n",
    "# проверим работу на тестовых примерах\n",
    "print (perceptron.sign([1.5, 2]))\n",
    "print (perceptron.sign([3, 1.5]))\n",
    "print (perceptron.sign([5, 1]))\n",
    "print (perceptron.sign([5, 10]))"
   ]
  },
  {
   "cell_type": "markdown",
   "id": "07b92d6e",
   "metadata": {},
   "source": [
    "Видим, что что наш персептрон отлично научился распознавать образы, относя к классу 1 те вектора, у которых первая компонента больше второй, и к классу -1 в противном случае. Хотя устройство персептронов довольно простое эти конструкции могут решать и практические задачи. Кроме того, из таких персептронов состоят нейронные сети."
   ]
  },
  {
   "attachments": {
    "image.png": {
     "image/png": "[encoded data removed]"
    }
   },
   "cell_type": "markdown",
   "id": "925c6363",
   "metadata": {},
   "source": [
    "### Теоретический материал – Реализация нейронной сети на Python\n",
    "\n",
    "Нейронная сеть — это функциональная единица машинного или глубокого обучения. Она имитирует поведение человеческого мозга, поскольку основана на концепции биологических нейронных сетей.\n",
    "\n",
    "Наиболее распространенный тип нейронной сети, называемый многослойным персептроном (MLP), представляет собой функцию, которая отображает входные данные в выходные данные. MLP имеет один входной слой и один выходной слой. Между ними может быть один или несколько скрытых слоев. Входной слой имеет тот же набор нейронов, что и признаки. Скрытые слои также могут иметь более одного нейрона. Каждый нейрон представляет собой линейную функцию, к которой применяется функция активации для решения сложных задач. Выход каждого слоя подается в качестве входных данных для всех нейронов следующих слоев.\n",
    "\n",
    "Нейронные сети способны решать множество задач. В основном они состоят из таких компонентов:\n",
    "\n",
    "- входной слой (получение и передача данных);\n",
    "    \n",
    "- скрытый слой (вычисление);\n",
    "    \n",
    "- выходной слой. Чтобы реализовать нейросеть, необходимо понимать, как ведут себя нейроны. Нейрон одновременно принимает несколько входов, обрабатывает эти данные и выдает один выход. Нейронная сеть представляет собой блоки ввода и вывода, где каждое соединение имеет соответствующие веса (это сила связи нейронов; чем вес больше, тем один нейрон сильнее влияет на другой). Данные всех входов умножаются на веса:\n",
    "    \n",
    "- x → x*w_1;\n",
    "- y → y*w_2.\n",
    "\n",
    "Входы после взвешивания суммируются с прибавлением значения порога «c»:\n",
    "    xw_1  + yw_2  + c\n",
    "\n",
    "Полученное значение пропускается через функцию активации (сигмоиду), которая преобразует входы в один выход:\n",
    "    z =f(xw_1  + yw_2  + c).\n",
    "\n",
    "\n",
    "\n",
    "Так выглядит сигмоида:\n",
    "    ![image.png](attachment:image.png)\n",
    " \n",
    "Интервал результатов сигмоиды — от 0 до 1. Отрицательные числа стремятся к нулю, а положительные — к единице.\n",
    "\n",
    "Например. Пусть нейрон имеет следующие значения: w = [0,1] c = 4.\n",
    "\n",
    "Входной слой: x = 2,y = 3.\n",
    "\n",
    "((xw_1) + (yw_2)) + c = 20 + 31 + 4 = 7.\n",
    "\n",
    "z = f(7) = 0.99.\n"
   ]
  },
  {
   "cell_type": "markdown",
   "id": "b41742e7",
   "metadata": {},
   "source": [
    "### 1.1.2 Пример\n",
    "Для написания кода нейрона будем использовать библиотеку Pytnon — NumPy:"
   ]
  },
  {
   "cell_type": "code",
   "execution_count": 3,
   "id": "1d18a069",
   "metadata": {},
   "outputs": [
    {
     "name": "stdout",
     "output_type": "stream",
     "text": [
      "0.9990889488055994\n"
     ]
    }
   ],
   "source": [
    "import numpy as np\n",
    "def sigmoid(x):\n",
    "    # функцияя активации: f(x) = 1 / (1 + e^(-x))\n",
    "    return 1/(1+np.exp(-x))\n",
    "class Neuron:\n",
    "    def __init__(self,weights, bias):\n",
    "        self.weights = weights\n",
    "        self.bias = bias\n",
    "    def feedforward(self,inputs):\n",
    "        total = np.dot(self.weights, inputs) + self.bias \n",
    "        return sigmoid(total)\n",
    "    \n",
    "weights = np.array([0, 1]) # w1 = 0, w2 =1\n",
    "bias = 4                   # c = 4\n",
    "n = Neuron(weights, bias)\n",
    "x = np.array([2,3])        # x = 2, y =3 \n",
    "print(n.feedforward(x))    # 0.9990889488055994"
   ]
  },
  {
   "attachments": {
    "image.png": {
     "image/png": "[encoded data removed]"
    }
   },
   "cell_type": "markdown",
   "id": "4f8b14ca",
   "metadata": {},
   "source": [
    "Нейросеть состоит из множества соединенных между собой нейронов. Пример несложной нейронной сети\n",
    "![image.png](attachment:image.png)\n",
    "    где:\n",
    "    \n",
    "    x_1,x_2 — входной слой;\n",
    "    h_1,h_2 — скрытый слой с двумя нейронами;\n",
    "    o_1 — выходной слой.\n",
    "    \n",
    "Например. Представим, что нейроны из графика выше имеют веса [0,1]. Пороговое значение (b) у обоих нейронов равно 0 и они имеют идентичную сигмоиду.\n",
    "При входных данных x=[2,3] получим:\n",
    "\n",
    "h_1  = h_2  = f(wx+b) = f((02) + (1*3) +0) = f(3) = 0.95.\n",
    "o_1  = f(w*[h_1,h_2] +b) = f((0h_1) + (1h_2) +0) = f(0.95) = 0.72.\n",
    "\n",
    "Входные данные по нейронам передаются до тех пор, пока не получатся выходные значения.\n"
   ]
  },
  {
   "cell_type": "code",
   "execution_count": 4,
   "id": "d1367292",
   "metadata": {},
   "outputs": [
    {
     "name": "stdout",
     "output_type": "stream",
     "text": [
      "0.7216325609518421\n"
     ]
    }
   ],
   "source": [
    "import numpy as np\n",
    "class OurNeuralNetwork:\n",
    "    '''\n",
    "    Данные нейросети:\n",
    "        -два входа\n",
    "        -два нейрона в скрытых слоях (h1, h2)\n",
    "        -выход(о1)\n",
    "    Нейроны имеют идентичные веса и пороги:\n",
    "        -w = [0,1]\n",
    "        -b = 0\n",
    "    '''\n",
    "    def __init__(self):\n",
    "        weights = np.array([0,1])\n",
    "        bias = 0\n",
    "        # класс neuron из предыдущего раздела\n",
    "        self.h1 = Neuron(weights,bias)\n",
    "        self.h2 = Neuron(weights,bias)\n",
    "        self.o1 = Neuron(weights,bias)\n",
    "    def feedforward(self,x):\n",
    "        out_h1 = self.h1.feedforward(x)\n",
    "        out_h2 = self.h2.feedforward(x)\n",
    "        # входы для о1 - это выходы h1 и h2\n",
    "        out_o1 = self.o1.feedforward(np.array([out_h1, out_h2]))\n",
    "        return out_o1\n",
    "    \n",
    "network = OurNeuralNetwork()\n",
    "x = np.array([2,3])\n",
    "print(network.feedforward(x)) # 0.7216325609518421 "
   ]
  },
  {
   "cell_type": "markdown",
   "id": "8cd5996b",
   "metadata": {},
   "source": [
    "### Теоретический материал – Обучение нейронной сети\n",
    "Обучение нейросети — это подбор весов, которые соответствуют всем входам для решения поставленных задач.\n",
    "\n",
    "Класс нейронной сети:"
   ]
  },
  {
   "cell_type": "code",
   "execution_count": 5,
   "id": "ea974a83",
   "metadata": {},
   "outputs": [],
   "source": [
    "class NeuralNetwork:\n",
    "    def __init__(self,x,y):\n",
    "        self.input = x\n",
    "        self.weights1 = np.random.rand(self.input.shape[1],4)\n",
    "        self.weights2 = np.random(4,1)\n",
    "        self.y = y\n",
    "        self.output = np.zeros(y.shape)"
   ]
  },
  {
   "attachments": {
    "image.png": {
     "image/png": "[encoded data removed]"
    }
   },
   "cell_type": "markdown",
   "id": "99795ba6",
   "metadata": {},
   "source": [
    "Каждый этап процесса обучения состоит из:\n",
    "\n",
    "- прямого распространения (прогнозируемый выход);\n",
    "- обратного распространения (обновление весов и смещений).\n",
    "    \n",
    "Например:\n",
    "\n",
    "Дана двуслойная нейросеть:\n",
    "\n",
    "ŷ = σ(w_2 σ(w_1 x + b_1 )+ b_2 ).\n",
    "\n",
    "В данном случае на выход ŷ влияют только две переменные — w (веса) и b (смещение). Настройку весов и смещений из данных входа или процесс обучения нейросети можно изобразить так:\n",
    "![image.png](attachment:image.png)"
   ]
  },
  {
   "cell_type": "markdown",
   "id": "c261744c",
   "metadata": {},
   "source": [
    "### Прямое распространение.\n",
    "Как видно, формула прямого распространения представляет собой несложное вычисление:\n",
    "\n",
    "ŷ = σ(w_2 σ(w_1 x + b_1) + b_2)\n",
    "\n",
    "Далее необходимо добавить в код функцию прямого распространения. Предположим, что смещения в этом случае будут равны 0.\n"
   ]
  },
  {
   "cell_type": "code",
   "execution_count": 6,
   "id": "aa675c06",
   "metadata": {},
   "outputs": [],
   "source": [
    "class NeuralNetwork:\n",
    "    def __init__(self,x,y):\n",
    "        self.input = x\n",
    "        self.weights1 = np.random.rand(self.input.shape[1],4)\n",
    "        self.weights2 = np.random(4,1)\n",
    "        self.y = y\n",
    "        self.output = np.zeros(y.shape)\n",
    "    def feedforward(self):\n",
    "        self.layer1 = sigmoid(np.dot(self.input, self.weights1))\n",
    "        self.output = sigmoid(np.dot(self.layer1, self.weights2))"
   ]
  },
  {
   "attachments": {
    "image.png": {
     "image/png": "[encoded data removed]"
    }
   },
   "cell_type": "markdown",
   "id": "be279398",
   "metadata": {},
   "source": [
    "Чтобы вычислить ошибку прогноза, необходимо использовать функцию потери. В примере уместно воспользоваться формулой суммы квадратов ошибок — средним значением между прогнозируемым и фактическим результатами:\n",
    "![image.png](attachment:image.png)"
   ]
  },
  {
   "attachments": {
    "image-2.png": {
     "image/png": "[encoded data removed]"
    },
    "image.png": {
     "image/png": "[encoded data removed]"
    }
   },
   "cell_type": "markdown",
   "id": "33f665fd",
   "metadata": {},
   "source": [
    "### Обратное распространение \n",
    "Обратное распространение позволяет измерить производные в обратном порядке — от конца к началу, и скорректировать веса и смещения. Для этого необходимо узнать производную функции потери — тангенс угла наклона.\n",
    "![image.png](attachment:image.png)\n",
    "Производная функции по отношению к весам и смещениям позволяет узнать градиентный спуск. Производная функции потери не содержит весов и смещений, для ее вычисления необходимо добавить правило цепи:\n",
    "![image-2.png](attachment:image-2.png)"
   ]
  },
  {
   "cell_type": "markdown",
   "id": "8b522c1b",
   "metadata": {},
   "source": [
    "Благодаря этому правилу можно регулировать веса. Добавляем в код Python функцию обратного распространения:"
   ]
  },
  {
   "cell_type": "code",
   "execution_count": 7,
   "id": "333549b9",
   "metadata": {},
   "outputs": [],
   "source": [
    "class NeuralNetwork:\n",
    "    def __init__(self,x,y):\n",
    "        self.input = x\n",
    "        self.weights1 = np.random.rand(self.input.shape[1],4)\n",
    "        self.weights2 = np.random(4,1)\n",
    "        self.y = y\n",
    "        self.output = np.zeros(y.shape)\n",
    "    def feedforward(self):\n",
    "        self.layer1 = sigmoid(np.dot(self.input, self.weights1))\n",
    "        self.output = sigmoid(np.dot(self.layer1, self.weights2))\n",
    "    def backprop(self):\n",
    "        # применение правила цепи для нахождения производной функции потерь по весу2 и весу1\n",
    "        d_weights2 = np.dot(self.layer1.T, (2*(self.y - self.output)*sigmoid_derivative(self.output)))\n",
    "        d_weights1 = np.dot(self.input.T, (np.dot(2*(self.y - self.output)*sigmoid_derivative(self.output), self.weights2.T)*sigmoid_derivative(self.layer1)))\n",
    "        \n",
    "        # обновление веса производной (наклона) функции потерь\n",
    "        self.weights1 += d_weights1\n",
    "        self.weights2 += d_weights2"
   ]
  },
  {
   "cell_type": "markdown",
   "id": "76046984",
   "metadata": {},
   "source": [
    "Нейронные сети базируются на определенных алгоритмах и математических функциях. Сначала может казаться, что разобраться в них довольно сложно. Но существуют готовые библиотеки машинного обучения для построения и тренировки нейросетей, позволяющие не углубляться в их устройство."
   ]
  },
  {
   "cell_type": "markdown",
   "id": "fd09ab4c",
   "metadata": {},
   "source": [
    "### Задание\n",
    "Реализовать классы нейросетей по аналогии с классом OurNeuralNetwork. Данные нейросети:\n",
    "\n",
    "- три входа (x_1,x_2,x_3 );\n",
    "- три нейрона в скрытых слоях (h_1,h_2,h_3);\n",
    "- выход (o_1).\n",
    "\n",
    "Нейроны имеют идентичные веса и пороги:\n",
    "\n",
    "- w = [0.5,0.5,0.5]\n",
    "- b = 0\n",
    "\n",
    "Данные нейросети:\n",
    "\n",
    "- два входа (x_1,x_2);\n",
    "- два нейрона в скрытых слоях (h_1,h_2);\n",
    "- два выхода (o_1,o_2 ).\n",
    "\n",
    "Нейроны имеют идентичные веса и пороги:\n",
    "\n",
    "- w = [1,0];\n",
    "- b = 1."
   ]
  },
  {
   "cell_type": "code",
   "execution_count": 8,
   "id": "e078eef4",
   "metadata": {},
   "outputs": [
    {
     "name": "stdout",
     "output_type": "stream",
     "text": [
      "0.8151036049051821\n"
     ]
    }
   ],
   "source": [
    "import numpy as np\n",
    "class OurNeuralNetwork:\n",
    "    '''\n",
    "    Данные нейросети:\n",
    "        -два входа\n",
    "        -два нейрона в скрытых слоях (h1, h2)\n",
    "        -выход(о1)\n",
    "    Нейроны имеют идентичные веса и пороги:\n",
    "        -w = [0,1]\n",
    "        -b = 0\n",
    "    '''\n",
    "    def __init__(self):\n",
    "        weights = np.array([0.5, 0.5, 0.5])\n",
    "        bias = 0\n",
    "        # класс neuron из предыдущего раздела\n",
    "        self.h1 = Neuron(weights,bias)\n",
    "        self.h2 = Neuron(weights,bias)\n",
    "        self.h3 = Neuron(weights,bias)\n",
    "        self.o1 = Neuron(weights,bias)\n",
    "    def feedforward(self,x):\n",
    "        out_h1 = self.h1.feedforward(x)\n",
    "        out_h2 = self.h2.feedforward(x)\n",
    "        out_h3 = self.h2.feedforward(x)\n",
    "        # входы для о1 - это выходы h1 и h2\n",
    "        out_o1 = self.o1.feedforward(np.array([out_h1, out_h2, out_h3]))\n",
    "        return out_o1\n",
    "    \n",
    "network = OurNeuralNetwork()\n",
    "x = np.array([2,3,4])\n",
    "print(network.feedforward(x)) # 0.7216325609518421 "
   ]
  },
  {
   "attachments": {
    "image.png": {
     "image/png": "[encoded data removed]"
    }
   },
   "cell_type": "markdown",
   "id": "031c4ef1",
   "metadata": {},
   "source": [
    "### Задание\n",
    "Реализуйте классы нейронных сетей с использованием других функций активации.\n",
    "![image.png](attachment:image.png)"
   ]
  },
  {
   "cell_type": "code",
   "execution_count": 9,
   "id": "5e3825ac",
   "metadata": {},
   "outputs": [
    {
     "name": "stdout",
     "output_type": "stream",
     "text": [
      "0.9990889488055994\n"
     ]
    }
   ],
   "source": [
    "import numpy as np\n",
    "def sigmoid(x):\n",
    "    return 1/(1+np.exp(-x))\n",
    "class Neuron:\n",
    "    def __init__(self, weights, bias):\n",
    "        self.weights = weights\n",
    "        self.bias = bias\n",
    "    def feedforward(self, inputs):\n",
    "        total = np.dot(self.weights, inputs) + self.bias\n",
    "        return sigmoid(total)\n",
    "weights = np.array([0,1])\n",
    "bias = 4\n",
    "n = Neuron(weights, bias)\n",
    "x = np.array([2,3])\n",
    "print(n.feedforward(x))"
   ]
  },
  {
   "cell_type": "code",
   "execution_count": 10,
   "id": "22c04cf5",
   "metadata": {},
   "outputs": [
    {
     "name": "stdout",
     "output_type": "stream",
     "text": [
      "0.9999983369439447\n"
     ]
    }
   ],
   "source": [
    "import numpy as np\n",
    "def tanh(x):\n",
    "    return np.tanh(x)\n",
    "class Neuron:\n",
    "    def __init__(self, weights, bias):\n",
    "        self.weights = weights\n",
    "        self.bias = bias\n",
    "    def feedforward(self, inputs):\n",
    "        total = np.dot(self.weights, inputs) + self.bias\n",
    "        return tanh(total)\n",
    "weights = np.array([0,1])\n",
    "bias = 4\n",
    "n = Neuron(weights, bias)\n",
    "x = np.array([2,3])\n",
    "print(n.feedforward(x))"
   ]
  },
  {
   "cell_type": "code",
   "execution_count": 11,
   "id": "3f920551",
   "metadata": {},
   "outputs": [
    {
     "name": "stdout",
     "output_type": "stream",
     "text": [
      "7\n"
     ]
    }
   ],
   "source": [
    "import numpy as np\n",
    "def ReLU(x):\n",
    "    return max(0,x)\n",
    "class Neuron:\n",
    "    def __init__(self, weights, bias):\n",
    "        self.weights = weights\n",
    "        self.bias = bias\n",
    "    def feedforward(self, inputs):\n",
    "        total = np.dot(self.weights, inputs) + self.bias\n",
    "        return ReLU(total)\n",
    "weights = np.array([0,1])\n",
    "bias = 4\n",
    "n = Neuron(weights, bias)\n",
    "x = np.array([2,3])\n",
    "print(n.feedforward(x))"
   ]
  },
  {
   "cell_type": "code",
   "execution_count": 12,
   "id": "e022da4a",
   "metadata": {},
   "outputs": [
    {
     "name": "stdout",
     "output_type": "stream",
     "text": [
      "7\n"
     ]
    }
   ],
   "source": [
    "import numpy as np\n",
    "def LeakyReLU(x):\n",
    "    return max(0.1*x,x)\n",
    "class Neuron:\n",
    "    def __init__(self, weights, bias):\n",
    "        self.weights = weights\n",
    "        self.bias = bias\n",
    "    def feedforward(self, inputs):\n",
    "        total = np.dot(self.weights, inputs) + self.bias\n",
    "        return LeakyReLU(total)\n",
    "weights = np.array([0,1])\n",
    "bias = 4\n",
    "n = Neuron(weights, bias)\n",
    "x = np.array([2,3])\n",
    "print(n.feedforward(x))"
   ]
  },
  {
   "cell_type": "code",
   "execution_count": 13,
   "id": "3538ff9b",
   "metadata": {},
   "outputs": [
    {
     "name": "stdout",
     "output_type": "stream",
     "text": [
      "7\n"
     ]
    }
   ],
   "source": [
    "import numpy as np\n",
    "def ELU(x):\n",
    "    return x if x >= 0 else alpha*(e^x-1)\n",
    "class Neuron:\n",
    "    def __init__(self, weights, bias):\n",
    "        self.weights = weights\n",
    "        self.bias = bias\n",
    "    def feedforward(self, inputs):\n",
    "        total = np.dot(self.weights, inputs) + self.bias\n",
    "        return ELU(total)\n",
    "weights = np.array([0,1])\n",
    "bias = 4\n",
    "n = Neuron(weights, bias)\n",
    "x = np.array([2,3])\n",
    "print(n.feedforward(x))"
   ]
  },
  {
   "cell_type": "markdown",
   "id": "285bb9cf",
   "metadata": {},
   "source": [
    "### 1.2. Введение в нейронные сети с помощью Scikit-Learn в Python\n",
    "Теперь мы знаем, что такое нейронные сети и какие шаги необходимо\n",
    "выполнить, чтобы построить простую нейронную сеть с плотными связями.\n",
    "В этом разделе мы попытаемся построить простую нейронную сеть, которая\n",
    "предсказывает класс, к которому принадлежит данное растение ириса. Мы\n",
    "будем использовать библиотеку Python Scikit-Learn для создания нашей\n",
    "нейронной сети.\n",
    "\n",
    "Sklearn предоставляет 2 оценщика для задач классификации и\n",
    "регрессии соответственно:\n",
    "\n",
    "1. MLPClassifier;\n",
    "2. MLPRegressor\n",
    "\n",
    "Начнем с импорта необходимых библиотек."
   ]
  },
  {
   "cell_type": "code",
   "execution_count": 14,
   "id": "cb95a2a9",
   "metadata": {},
   "outputs": [],
   "source": [
    "# Загрузка библиотека\n",
    "import numpy as np\n",
    "import pandas as pd\n",
    "import matplotlib.pyplot as plt\n",
    "import sklearn"
   ]
  },
  {
   "cell_type": "markdown",
   "id": "8ef93d04",
   "metadata": {},
   "source": [
    "### MLPClassifier\n",
    "Загрузка данных\n",
    "\n",
    "Мы будем загружать два набора данных.\n",
    "\n",
    "Набор данных цифр: мы будем использовать набор данных цифр,\n",
    "который имеет изображения размером 8x8 для цифр 0-9. Ниже мы будем\n",
    "использовать цифровые данные для задач классификации.\n",
    "\n",
    "Набор данных о жилье в Бостоне: мы будем использовать набор\n",
    "данных о жилье в Бостоне, который содержит информацию о различных\n",
    "свойствах дома, таких как среднее количество комнат, уровень преступности\n",
    "на душу населения в городе и т. д. Мы будем использовать его для задач\n",
    "регрессии.\n",
    "\n",
    "Sklearn предоставляет оба этих набора данных. Мы можем загрузить\n",
    "их, вызвав методы load_digits() и load_boston()"
   ]
  },
  {
   "cell_type": "code",
   "execution_count": 15,
   "id": "a8e364be",
   "metadata": {},
   "outputs": [
    {
     "name": "stdout",
     "output_type": "stream",
     "text": [
      "Dataset Sizes:  (1797, 64) (1797,)\n"
     ]
    }
   ],
   "source": [
    "from sklearn.datasets import load_digits, load_boston\n",
    "\n",
    "digits = load_digits()\n",
    "X_digits, Y_digits = digits.data, digits.target\n",
    "print('Dataset Sizes: ', X_digits.shape, Y_digits.shape)"
   ]
  },
  {
   "cell_type": "code",
   "execution_count": 16,
   "id": "d65900d6",
   "metadata": {},
   "outputs": [
    {
     "name": "stdout",
     "output_type": "stream",
     "text": [
      "Dataset Sizes:  (506, 13) (506,)\n"
     ]
    }
   ],
   "source": [
    "boston = load_boston()\n",
    "X_boston, Y_boston = boston.data, boston.target\n",
    "print('Dataset Sizes: ', X_boston.shape, Y_boston.shape)"
   ]
  },
  {
   "cell_type": "markdown",
   "id": "41e0407f",
   "metadata": {},
   "source": [
    "#### Классификация\n",
    "MLPClassifier — это клвсс, доступный как часть модуля neuro_network\n",
    "sklearn для выполнения задач классификации с использованием\n",
    "многослойного персептрона.\n",
    "\n",
    "Как обычно разделим набор данных на две части:\n",
    "\n",
    "- данные обучения, которые будут использоваться для модели обучения;\n",
    "- тестовые данные, по которым будет проверяться точность обученной модели.\n",
    "\n",
    "Функция train_test_split модуля model_selection sklearn поможет нам\n",
    "разделить данные на два набора: 80% для обучения и 20% для тестирования.\n",
    "Мы также используем seed(random_state=123) с train_test_split, чтобы мы\n",
    "всегда получали одно и то же разделение и могли сравнивать и\n",
    "воспроизволить результаты в будущем."
   ]
  },
  {
   "cell_type": "code",
   "execution_count": 17,
   "id": "3e82863f",
   "metadata": {},
   "outputs": [
    {
     "name": "stdout",
     "output_type": "stream",
     "text": [
      "Train/Test Sizes:  (1437, 64) (360, 64) (1437,) (360,)\n"
     ]
    }
   ],
   "source": [
    "from sklearn.model_selection import train_test_split\n",
    "\n",
    "X_train, X_test, Y_train, Y_test = train_test_split(X_digits, Y_digits, train_size=0.80, test_size=0.20, stratify=Y_digits, random_state=123)\n",
    "print('Train/Test Sizes: ', X_train.shape, X_test.shape, Y_train.shape, Y_test.shape)"
   ]
  },
  {
   "cell_type": "code",
   "execution_count": 18,
   "id": "ef2fc465",
   "metadata": {},
   "outputs": [
    {
     "data": {
      "text/plain": [
       "MLPClassifier(random_state=123)"
      ]
     },
     "execution_count": 18,
     "metadata": {},
     "output_type": "execute_result"
    }
   ],
   "source": [
    "# Для начала натренируем модель MLPClassifier с параметрами по умолчанию\n",
    "# для тренировочных данных.\n",
    "\n",
    "from sklearn.neural_network import MLPClassifier\n",
    "\n",
    "mlp_classifier = MLPClassifier(random_state=123)\n",
    "mlp_classifier.fit(X_train, Y_train)"
   ]
  },
  {
   "cell_type": "code",
   "execution_count": 19,
   "id": "1870593c",
   "metadata": {},
   "outputs": [
    {
     "name": "stdout",
     "output_type": "stream",
     "text": [
      "[5 9 9 6 1 6 6 9 8 7 4 2 1 4 3]\n",
      "[5 9 9 6 1 6 6 9 8 7 4 2 1 4 3]\n",
      "Test Accuracy: 0.983\n",
      "Training Accuracy: 1.000\n"
     ]
    }
   ],
   "source": [
    "Y_preds = mlp_classifier.predict(X_test)\n",
    "\n",
    "print(Y_preds[:15])\n",
    "print(Y_test[:15])\n",
    "# метод score для оценки точноси моделей классификации\n",
    "print('Test Accuracy: %.3f'%mlp_classifier.score(X_test, Y_test))\n",
    "\n",
    "print('Training Accuracy: %.3f'%mlp_classifier.score(X_train, Y_train))"
   ]
  },
  {
   "cell_type": "code",
   "execution_count": 20,
   "id": "002fe17b",
   "metadata": {},
   "outputs": [
    {
     "data": {
      "image/png": "[encoded data removed]",
      "text/plain": [
       "<Figure size 432x432 with 2 Axes>"
      ]
     },
     "metadata": {
      "needs_background": "light"
     },
     "output_type": "display_data"
    }
   ],
   "source": [
    "# Cоздадим метод plot_confusion_matrix(), который принимает исходные и\n",
    "# предсказанные метки данных по модели. Затем он строит матрицу путаницы,\n",
    "# используя matplotlib\n",
    "\n",
    "from sklearn.metrics import confusion_matrix\n",
    "\n",
    "def plot_confusion_matrix(Y_test, Y_preds):\n",
    "    conf_mat = confusion_matrix(Y_test, Y_preds)\n",
    "    #print(conf_mat)\n",
    "    fig = plt.figure(figsize=(6,6))\n",
    "    plt.matshow(conf_mat, cmap=plt.cm.Blues, fignum=1)\n",
    "    plt.yticks(range(10), range(10))\n",
    "    plt.xticks(range(10), range(10))\n",
    "    plt.colorbar();\n",
    "    for i in range(10):\n",
    "        for j in range(10):\n",
    "            plt.text(i-0.2, j+0.1, str(conf_mat[j, i]), color='tab:red')\n",
    "\n",
    "plot_confusion_matrix(Y_test, mlp_classifier.predict(X_test))"
   ]
  },
  {
   "cell_type": "markdown",
   "id": "9dbd0656",
   "metadata": {},
   "source": [
    "Ниже приведен список важных атрибутов, доступных с MLPClassifier,\n",
    "которые могут предоставить значимую информацию после обучения\n",
    "модели.\n",
    "\n",
    "- loss_ — возвращает убыток после завершения процесса обучения.\n",
    "- coefs_ — возвращает массив длины n_layers-1, где каждый элемент представляет веса, связанные с уровнем i.\n",
    "- intercepts_ — возвращает массив длины n_layers-1, где каждый элемент представляет собой перехват, связанный с персептронами слоя i.\n",
    "- n_iter_ — количество итераций, для которых выполнялась оценка.\n",
    "- out_activation_ — возвращает имя функции активации выходного слоя."
   ]
  },
  {
   "cell_type": "code",
   "execution_count": 21,
   "id": "a125373c",
   "metadata": {},
   "outputs": [
    {
     "name": "stdout",
     "output_type": "stream",
     "text": [
      "Loss: 0.0034728684994180608\n",
      "Number of Coefs: 2\n",
      "Number of Intercepts: 2\n",
      "Number of Iterations for Which Estimator Ran: 125\n",
      "Name of Output Layer Activation Function: softmax\n"
     ]
    }
   ],
   "source": [
    "print('Loss:', mlp_classifier.loss_)\n",
    "print('Number of Coefs:', len(mlp_classifier.coefs_))\n",
    "print('Number of Intercepts:', len(mlp_classifier.intercepts_))\n",
    "print('Number of Iterations for Which Estimator Ran:', mlp_classifier.n_iter_)\n",
    "print('Name of Output Layer Activation Function:', mlp_classifier.out_activation_)"
   ]
  },
  {
   "cell_type": "markdown",
   "id": "326d9beb",
   "metadata": {},
   "source": [
    "### MLPRegressor\n",
    "MLPRegressor — это класс, доступный как часть библиотеки\n",
    "neuro_network sklearn для выполнения задач регрессии с использованием\n",
    "многослойного персептрона. Также разделим набор данных на две части:\n",
    "\n",
    "- данные обучения (80%), которые будут использоваться для модели обучения;\n",
    "- тестовые данные (20%), по которым будет проверяться точность обученной модели."
   ]
  },
  {
   "cell_type": "code",
   "execution_count": 22,
   "id": "364bcf7e",
   "metadata": {},
   "outputs": [
    {
     "name": "stdout",
     "output_type": "stream",
     "text": [
      "Train/Test Sizes: (404, 13) (102, 13) (404,) (102,)\n"
     ]
    }
   ],
   "source": [
    "X_train, X_test, Y_train, Y_test = train_test_split(X_boston, Y_boston, train_size=0.80, test_size=0.20, random_state=123)\n",
    "print('Train/Test Sizes:', X_train.shape, X_test.shape, Y_train.shape, Y_test.shape)"
   ]
  },
  {
   "cell_type": "code",
   "execution_count": 23,
   "id": "80f6af93",
   "metadata": {},
   "outputs": [
    {
     "data": {
      "text/plain": [
       "MLPRegressor(random_state=123)"
      ]
     },
     "execution_count": 23,
     "metadata": {},
     "output_type": "execute_result"
    }
   ],
   "source": [
    "from sklearn.neural_network import MLPRegressor\n",
    "\n",
    "mlp_regressor = MLPRegressor(random_state=123)\n",
    "mlp_regressor.fit(X_train, Y_train)"
   ]
  },
  {
   "cell_type": "code",
   "execution_count": 24,
   "id": "75a4fb2d",
   "metadata": {},
   "outputs": [
    {
     "name": "stdout",
     "output_type": "stream",
     "text": [
      "[ 7.32543601 24.33417853 32.46700507 15.19086054 25.6749167  25.07797685\n",
      " 27.20985668  2.62269853 15.25691994 28.02637784]\n",
      "[15.  26.6 45.4 20.8 34.9 21.9 28.7  7.2 20.  32.2]\n",
      "Test R^2 Score : 0.462\n",
      "Training R^2 Score : 0.510\n"
     ]
    }
   ],
   "source": [
    "Y_preds = mlp_regressor.predict(X_test)\n",
    "\n",
    "print(Y_preds[:10])\n",
    "print(Y_test[:10])\n",
    "# метод score оценивает точность моделей классификации\n",
    "print('Test R^2 Score : %.3f'%mlp_regressor.score(X_test, Y_test))\n",
    "print('Training R^2 Score : %.3f'%mlp_regressor.score(X_train, Y_train))"
   ]
  },
  {
   "cell_type": "code",
   "execution_count": 25,
   "id": "e86cb042",
   "metadata": {},
   "outputs": [
    {
     "name": "stdout",
     "output_type": "stream",
     "text": [
      "Loss: 28.538174061119626\n"
     ]
    }
   ],
   "source": [
    "# MLPRegressor имеет все атрибуты такие же, как и у MLPClassifier:\n",
    "print('Loss:', mlp_regressor.loss_)"
   ]
  },
  {
   "cell_type": "code",
   "execution_count": 26,
   "id": "110d3320",
   "metadata": {},
   "outputs": [
    {
     "name": "stdout",
     "output_type": "stream",
     "text": [
      "Number of Coefs: 2\n"
     ]
    },
    {
     "data": {
      "text/plain": [
       "[(13, 100), (100, 1)]"
      ]
     },
     "execution_count": 26,
     "metadata": {},
     "output_type": "execute_result"
    }
   ],
   "source": [
    "print('Number of Coefs:', len(mlp_regressor.coefs_))\n",
    "[weights.shape for weights in mlp_regressor.coefs_]"
   ]
  },
  {
   "cell_type": "code",
   "execution_count": 27,
   "id": "24a2c334",
   "metadata": {},
   "outputs": [
    {
     "name": "stdout",
     "output_type": "stream",
     "text": [
      "Number of Iterations for Which Estimator Ran: 130\n",
      "Name of Output Layer Activation Function: identity\n"
     ]
    }
   ],
   "source": [
    "print('Number of Iterations for Which Estimator Ran:', mlp_regressor.n_iter_)\n",
    "print('Name of Output Layer Activation Function:', mlp_regressor.out_activation_)"
   ]
  },
  {
   "cell_type": "markdown",
   "id": "44cb33b9",
   "metadata": {},
   "source": [
    "### 1.2.1 Задание\n",
    "Используйте классы MLPClassified и MLPRegressor для классификации и\n",
    "регрессии произвольных данных из интернета. Проведите анализ\n",
    "атрибуты, полученных моделей.\n",
    "\n",
    "Для классификации можете взять набор данных Ирисов:\n",
    "https://gist.githubusercontent.com/netj/8836201/raw/6f9306ad21398ea43cba4f7d537619d0e07d5ae3/iris.csv\n",
    "\n",
    "а для регрессии датасет зависимости заработной платы от опыта работы:\n",
    "https://raw.githubusercontent.com/AnnaShestova/salary-years-simple-linear-regression/master/Salary_Data.csv\n"
   ]
  },
  {
   "cell_type": "code",
   "execution_count": 28,
   "id": "7c8b32c1",
   "metadata": {},
   "outputs": [
    {
     "data": {
      "text/html": [
       "<div>\n",
       "<style scoped>\n",
       "    .dataframe tbody tr th:only-of-type {\n",
       "        vertical-align: middle;\n",
       "    }\n",
       "\n",
       "    .dataframe tbody tr th {\n",
       "        vertical-align: top;\n",
       "    }\n",
       "\n",
       "    .dataframe thead th {\n",
       "        text-align: right;\n",
       "    }\n",
       "</style>\n",
       "<table border=\"1\" class=\"dataframe\">\n",
       "  <thead>\n",
       "    <tr style=\"text-align: right;\">\n",
       "      <th></th>\n",
       "      <th>sepal_length</th>\n",
       "      <th>sepal_width</th>\n",
       "      <th>petal_length</th>\n",
       "      <th>petal_width</th>\n",
       "      <th>species</th>\n",
       "    </tr>\n",
       "  </thead>\n",
       "  <tbody>\n",
       "    <tr>\n",
       "      <th>0</th>\n",
       "      <td>5.1</td>\n",
       "      <td>3.5</td>\n",
       "      <td>1.4</td>\n",
       "      <td>0.2</td>\n",
       "      <td>setosa</td>\n",
       "    </tr>\n",
       "    <tr>\n",
       "      <th>1</th>\n",
       "      <td>4.9</td>\n",
       "      <td>3.0</td>\n",
       "      <td>1.4</td>\n",
       "      <td>0.2</td>\n",
       "      <td>setosa</td>\n",
       "    </tr>\n",
       "    <tr>\n",
       "      <th>2</th>\n",
       "      <td>4.7</td>\n",
       "      <td>3.2</td>\n",
       "      <td>1.3</td>\n",
       "      <td>0.2</td>\n",
       "      <td>setosa</td>\n",
       "    </tr>\n",
       "    <tr>\n",
       "      <th>3</th>\n",
       "      <td>4.6</td>\n",
       "      <td>3.1</td>\n",
       "      <td>1.5</td>\n",
       "      <td>0.2</td>\n",
       "      <td>setosa</td>\n",
       "    </tr>\n",
       "    <tr>\n",
       "      <th>4</th>\n",
       "      <td>5.0</td>\n",
       "      <td>3.6</td>\n",
       "      <td>1.4</td>\n",
       "      <td>0.2</td>\n",
       "      <td>setosa</td>\n",
       "    </tr>\n",
       "    <tr>\n",
       "      <th>...</th>\n",
       "      <td>...</td>\n",
       "      <td>...</td>\n",
       "      <td>...</td>\n",
       "      <td>...</td>\n",
       "      <td>...</td>\n",
       "    </tr>\n",
       "    <tr>\n",
       "      <th>145</th>\n",
       "      <td>6.7</td>\n",
       "      <td>3.0</td>\n",
       "      <td>5.2</td>\n",
       "      <td>2.3</td>\n",
       "      <td>virginica</td>\n",
       "    </tr>\n",
       "    <tr>\n",
       "      <th>146</th>\n",
       "      <td>6.3</td>\n",
       "      <td>2.5</td>\n",
       "      <td>5.0</td>\n",
       "      <td>1.9</td>\n",
       "      <td>virginica</td>\n",
       "    </tr>\n",
       "    <tr>\n",
       "      <th>147</th>\n",
       "      <td>6.5</td>\n",
       "      <td>3.0</td>\n",
       "      <td>5.2</td>\n",
       "      <td>2.0</td>\n",
       "      <td>virginica</td>\n",
       "    </tr>\n",
       "    <tr>\n",
       "      <th>148</th>\n",
       "      <td>6.2</td>\n",
       "      <td>3.4</td>\n",
       "      <td>5.4</td>\n",
       "      <td>2.3</td>\n",
       "      <td>virginica</td>\n",
       "    </tr>\n",
       "    <tr>\n",
       "      <th>149</th>\n",
       "      <td>5.9</td>\n",
       "      <td>3.0</td>\n",
       "      <td>5.1</td>\n",
       "      <td>1.8</td>\n",
       "      <td>virginica</td>\n",
       "    </tr>\n",
       "  </tbody>\n",
       "</table>\n",
       "<p>150 rows × 5 columns</p>\n",
       "</div>"
      ],
      "text/plain": [
       "     sepal_length  sepal_width  petal_length  petal_width    species\n",
       "0             5.1          3.5           1.4          0.2     setosa\n",
       "1             4.9          3.0           1.4          0.2     setosa\n",
       "2             4.7          3.2           1.3          0.2     setosa\n",
       "3             4.6          3.1           1.5          0.2     setosa\n",
       "4             5.0          3.6           1.4          0.2     setosa\n",
       "..            ...          ...           ...          ...        ...\n",
       "145           6.7          3.0           5.2          2.3  virginica\n",
       "146           6.3          2.5           5.0          1.9  virginica\n",
       "147           6.5          3.0           5.2          2.0  virginica\n",
       "148           6.2          3.4           5.4          2.3  virginica\n",
       "149           5.9          3.0           5.1          1.8  virginica\n",
       "\n",
       "[150 rows x 5 columns]"
      ]
     },
     "execution_count": 28,
     "metadata": {},
     "output_type": "execute_result"
    }
   ],
   "source": [
    "import pandas as pd\n",
    "import numpy as np\n",
    "import seaborn as sns\n",
    "import matplotlib.pyplot as plt\n",
    "\n",
    "dataset = sns.load_dataset('iris')\n",
    "dataset"
   ]
  },
  {
   "cell_type": "code",
   "execution_count": 29,
   "id": "44c31897",
   "metadata": {},
   "outputs": [
    {
     "data": {
      "text/plain": [
       "(150, 5)"
      ]
     },
     "execution_count": 29,
     "metadata": {},
     "output_type": "execute_result"
    }
   ],
   "source": [
    "dataset.shape"
   ]
  },
  {
   "cell_type": "code",
   "execution_count": 30,
   "id": "55b5e068",
   "metadata": {},
   "outputs": [
    {
     "data": {
      "text/html": [
       "<div>\n",
       "<style scoped>\n",
       "    .dataframe tbody tr th:only-of-type {\n",
       "        vertical-align: middle;\n",
       "    }\n",
       "\n",
       "    .dataframe tbody tr th {\n",
       "        vertical-align: top;\n",
       "    }\n",
       "\n",
       "    .dataframe thead th {\n",
       "        text-align: right;\n",
       "    }\n",
       "</style>\n",
       "<table border=\"1\" class=\"dataframe\">\n",
       "  <thead>\n",
       "    <tr style=\"text-align: right;\">\n",
       "      <th></th>\n",
       "      <th>sepal_length</th>\n",
       "      <th>sepal_width</th>\n",
       "      <th>petal_length</th>\n",
       "      <th>petal_width</th>\n",
       "      <th>species</th>\n",
       "    </tr>\n",
       "  </thead>\n",
       "  <tbody>\n",
       "    <tr>\n",
       "      <th>0</th>\n",
       "      <td>5.1</td>\n",
       "      <td>3.5</td>\n",
       "      <td>1.4</td>\n",
       "      <td>0.2</td>\n",
       "      <td>setosa</td>\n",
       "    </tr>\n",
       "    <tr>\n",
       "      <th>1</th>\n",
       "      <td>4.9</td>\n",
       "      <td>3.0</td>\n",
       "      <td>1.4</td>\n",
       "      <td>0.2</td>\n",
       "      <td>setosa</td>\n",
       "    </tr>\n",
       "    <tr>\n",
       "      <th>2</th>\n",
       "      <td>4.7</td>\n",
       "      <td>3.2</td>\n",
       "      <td>1.3</td>\n",
       "      <td>0.2</td>\n",
       "      <td>setosa</td>\n",
       "    </tr>\n",
       "    <tr>\n",
       "      <th>3</th>\n",
       "      <td>4.6</td>\n",
       "      <td>3.1</td>\n",
       "      <td>1.5</td>\n",
       "      <td>0.2</td>\n",
       "      <td>setosa</td>\n",
       "    </tr>\n",
       "    <tr>\n",
       "      <th>4</th>\n",
       "      <td>5.0</td>\n",
       "      <td>3.6</td>\n",
       "      <td>1.4</td>\n",
       "      <td>0.2</td>\n",
       "      <td>setosa</td>\n",
       "    </tr>\n",
       "  </tbody>\n",
       "</table>\n",
       "</div>"
      ],
      "text/plain": [
       "   sepal_length  sepal_width  petal_length  petal_width species\n",
       "0           5.1          3.5           1.4          0.2  setosa\n",
       "1           4.9          3.0           1.4          0.2  setosa\n",
       "2           4.7          3.2           1.3          0.2  setosa\n",
       "3           4.6          3.1           1.5          0.2  setosa\n",
       "4           5.0          3.6           1.4          0.2  setosa"
      ]
     },
     "execution_count": 30,
     "metadata": {},
     "output_type": "execute_result"
    }
   ],
   "source": [
    "dataset.head()"
   ]
  },
  {
   "cell_type": "code",
   "execution_count": 31,
   "id": "0ba43eb8",
   "metadata": {},
   "outputs": [
    {
     "data": {
      "text/plain": [
       "((120, 4), (30, 4), (120,), (30,))"
      ]
     },
     "execution_count": 31,
     "metadata": {},
     "output_type": "execute_result"
    }
   ],
   "source": [
    "from sklearn.model_selection import train_test_split\n",
    "\n",
    "X_train, X_test, y_train, y_test = train_test_split(\n",
    "    dataset.iloc[:,:-1],\n",
    "    dataset.iloc[:, -1],\n",
    "    test_size = 0.20\n",
    ")\n",
    "\n",
    "X_train.shape, X_test.shape, y_train.shape, y_test.shape"
   ]
  },
  {
   "cell_type": "code",
   "execution_count": 32,
   "id": "e4440c51",
   "metadata": {},
   "outputs": [
    {
     "data": {
      "text/html": [
       "<div>\n",
       "<style scoped>\n",
       "    .dataframe tbody tr th:only-of-type {\n",
       "        vertical-align: middle;\n",
       "    }\n",
       "\n",
       "    .dataframe tbody tr th {\n",
       "        vertical-align: top;\n",
       "    }\n",
       "\n",
       "    .dataframe thead th {\n",
       "        text-align: right;\n",
       "    }\n",
       "</style>\n",
       "<table border=\"1\" class=\"dataframe\">\n",
       "  <thead>\n",
       "    <tr style=\"text-align: right;\">\n",
       "      <th></th>\n",
       "      <th>sepal_length</th>\n",
       "      <th>sepal_width</th>\n",
       "      <th>petal_length</th>\n",
       "      <th>petal_width</th>\n",
       "    </tr>\n",
       "  </thead>\n",
       "  <tbody>\n",
       "    <tr>\n",
       "      <th>70</th>\n",
       "      <td>5.9</td>\n",
       "      <td>3.2</td>\n",
       "      <td>4.8</td>\n",
       "      <td>1.8</td>\n",
       "    </tr>\n",
       "    <tr>\n",
       "      <th>76</th>\n",
       "      <td>6.8</td>\n",
       "      <td>2.8</td>\n",
       "      <td>4.8</td>\n",
       "      <td>1.4</td>\n",
       "    </tr>\n",
       "    <tr>\n",
       "      <th>52</th>\n",
       "      <td>6.9</td>\n",
       "      <td>3.1</td>\n",
       "      <td>4.9</td>\n",
       "      <td>1.5</td>\n",
       "    </tr>\n",
       "    <tr>\n",
       "      <th>12</th>\n",
       "      <td>4.8</td>\n",
       "      <td>3.0</td>\n",
       "      <td>1.4</td>\n",
       "      <td>0.1</td>\n",
       "    </tr>\n",
       "    <tr>\n",
       "      <th>71</th>\n",
       "      <td>6.1</td>\n",
       "      <td>2.8</td>\n",
       "      <td>4.0</td>\n",
       "      <td>1.3</td>\n",
       "    </tr>\n",
       "  </tbody>\n",
       "</table>\n",
       "</div>"
      ],
      "text/plain": [
       "    sepal_length  sepal_width  petal_length  petal_width\n",
       "70           5.9          3.2           4.8          1.8\n",
       "76           6.8          2.8           4.8          1.4\n",
       "52           6.9          3.1           4.9          1.5\n",
       "12           4.8          3.0           1.4          0.1\n",
       "71           6.1          2.8           4.0          1.3"
      ]
     },
     "execution_count": 32,
     "metadata": {},
     "output_type": "execute_result"
    }
   ],
   "source": [
    "X_train.head()"
   ]
  },
  {
   "cell_type": "code",
   "execution_count": 33,
   "id": "341e66d1",
   "metadata": {},
   "outputs": [
    {
     "data": {
      "text/plain": [
       "70    versicolor\n",
       "76    versicolor\n",
       "52    versicolor\n",
       "12        setosa\n",
       "71    versicolor\n",
       "Name: species, dtype: object"
      ]
     },
     "execution_count": 33,
     "metadata": {},
     "output_type": "execute_result"
    }
   ],
   "source": [
    "y_train.head()"
   ]
  },
  {
   "cell_type": "code",
   "execution_count": 34,
   "id": "8a9a4654",
   "metadata": {},
   "outputs": [
    {
     "name": "stdout",
     "output_type": "stream",
     "text": [
      "Dataset Sizes:  (1797, 64) (1797,)\n"
     ]
    }
   ],
   "source": [
    "from sklearn.datasets import load_digits, load_boston\n",
    "\n",
    "digits = load_digits()\n",
    "X_digits, Y_digits = digits.data, digits.target\n",
    "print('Dataset Sizes: ', X_digits.shape, Y_digits.shape)"
   ]
  },
  {
   "cell_type": "code",
   "execution_count": 35,
   "id": "5415f7bf",
   "metadata": {},
   "outputs": [
    {
     "name": "stdout",
     "output_type": "stream",
     "text": [
      "Dataset Sizes:  (506, 13) (506,)\n"
     ]
    }
   ],
   "source": [
    "boston = load_boston()\n",
    "X_boston, Y_boston = boston.data, boston.target\n",
    "print('Dataset Sizes: ', X_boston.shape, Y_boston.shape)"
   ]
  },
  {
   "cell_type": "code",
   "execution_count": 36,
   "id": "1cde099b",
   "metadata": {},
   "outputs": [
    {
     "name": "stdout",
     "output_type": "stream",
     "text": [
      "Train/Test Sizes:  (1437, 64) (360, 64) (1437,) (360,)\n"
     ]
    }
   ],
   "source": [
    "from sklearn.model_selection import train_test_split\n",
    "\n",
    "X_train, X_test, Y_train, Y_test = train_test_split(X_digits, Y_digits, train_size=0.80, test_size=0.20, stratify=Y_digits, random_state=123)\n",
    "print('Train/Test Sizes: ', X_train.shape, X_test.shape, Y_train.shape, Y_test.shape)"
   ]
  },
  {
   "cell_type": "code",
   "execution_count": 37,
   "id": "ffe75f55",
   "metadata": {},
   "outputs": [
    {
     "data": {
      "text/plain": [
       "MLPClassifier(random_state=123)"
      ]
     },
     "execution_count": 37,
     "metadata": {},
     "output_type": "execute_result"
    }
   ],
   "source": [
    "from sklearn.neural_network import MLPClassifier\n",
    "\n",
    "mlp_classifier = MLPClassifier(random_state=123)\n",
    "mlp_classifier.fit(X_train, Y_train)"
   ]
  },
  {
   "cell_type": "code",
   "execution_count": 38,
   "id": "6c0083e4",
   "metadata": {},
   "outputs": [
    {
     "name": "stdout",
     "output_type": "stream",
     "text": [
      "[5 9 9 6 1 6 6 9 8 7 4 2 1 4 3]\n",
      "[5 9 9 6 1 6 6 9 8 7 4 2 1 4 3]\n",
      "Test Accuracy: 0.983\n",
      "Training Accuracy: 1.000\n"
     ]
    }
   ],
   "source": [
    "Y_preds = mlp_classifier.predict(X_test)\n",
    "\n",
    "print(Y_preds[:15])\n",
    "print(Y_test[:15])\n",
    "# метод score для оценки точноси моделей классификации\n",
    "print('Test Accuracy: %.3f'%mlp_classifier.score(X_test, Y_test))\n",
    "\n",
    "print('Training Accuracy: %.3f'%mlp_classifier.score(X_train, Y_train))"
   ]
  },
  {
   "cell_type": "code",
   "execution_count": 39,
   "id": "d7c90728",
   "metadata": {},
   "outputs": [
    {
     "data": {
      "image/png": "[encoded data removed]",
      "text/plain": [
       "<Figure size 432x432 with 2 Axes>"
      ]
     },
     "metadata": {
      "needs_background": "light"
     },
     "output_type": "display_data"
    }
   ],
   "source": [
    "from sklearn.metrics import confusion_matrix\n",
    "\n",
    "def plot_confusion_matrix(Y_test, Y_preds):\n",
    "    conf_mat = confusion_matrix(Y_test, Y_preds)\n",
    "    #print(conf_mat)\n",
    "    fig = plt.figure(figsize=(6,6))\n",
    "    plt.matshow(conf_mat, cmap=plt.cm.Blues, fignum=1)\n",
    "    plt.yticks(range(10), range(10))\n",
    "    plt.xticks(range(10), range(10))\n",
    "    plt.colorbar();\n",
    "    for i in range(10):\n",
    "        for j in range(10):\n",
    "            plt.text(i-0.2, j+0.1, str(conf_mat[j, i]), color='tab:red')\n",
    "\n",
    "plot_confusion_matrix(Y_test, mlp_classifier.predict(X_test))"
   ]
  },
  {
   "cell_type": "code",
   "execution_count": 40,
   "id": "456b9481",
   "metadata": {},
   "outputs": [
    {
     "name": "stdout",
     "output_type": "stream",
     "text": [
      "(30, 2)\n"
     ]
    },
    {
     "data": {
      "text/html": [
       "<div>\n",
       "<style scoped>\n",
       "    .dataframe tbody tr th:only-of-type {\n",
       "        vertical-align: middle;\n",
       "    }\n",
       "\n",
       "    .dataframe tbody tr th {\n",
       "        vertical-align: top;\n",
       "    }\n",
       "\n",
       "    .dataframe thead th {\n",
       "        text-align: right;\n",
       "    }\n",
       "</style>\n",
       "<table border=\"1\" class=\"dataframe\">\n",
       "  <thead>\n",
       "    <tr style=\"text-align: right;\">\n",
       "      <th></th>\n",
       "      <th>YearsExperience</th>\n",
       "      <th>Salary</th>\n",
       "    </tr>\n",
       "  </thead>\n",
       "  <tbody>\n",
       "    <tr>\n",
       "      <th>count</th>\n",
       "      <td>30.000000</td>\n",
       "      <td>30.000000</td>\n",
       "    </tr>\n",
       "    <tr>\n",
       "      <th>mean</th>\n",
       "      <td>5.313333</td>\n",
       "      <td>76003.000000</td>\n",
       "    </tr>\n",
       "    <tr>\n",
       "      <th>std</th>\n",
       "      <td>2.837888</td>\n",
       "      <td>27414.429785</td>\n",
       "    </tr>\n",
       "    <tr>\n",
       "      <th>min</th>\n",
       "      <td>1.100000</td>\n",
       "      <td>37731.000000</td>\n",
       "    </tr>\n",
       "    <tr>\n",
       "      <th>25%</th>\n",
       "      <td>3.200000</td>\n",
       "      <td>56720.750000</td>\n",
       "    </tr>\n",
       "    <tr>\n",
       "      <th>50%</th>\n",
       "      <td>4.700000</td>\n",
       "      <td>65237.000000</td>\n",
       "    </tr>\n",
       "    <tr>\n",
       "      <th>75%</th>\n",
       "      <td>7.700000</td>\n",
       "      <td>100544.750000</td>\n",
       "    </tr>\n",
       "    <tr>\n",
       "      <th>max</th>\n",
       "      <td>10.500000</td>\n",
       "      <td>122391.000000</td>\n",
       "    </tr>\n",
       "  </tbody>\n",
       "</table>\n",
       "</div>"
      ],
      "text/plain": [
       "       YearsExperience         Salary\n",
       "count        30.000000      30.000000\n",
       "mean          5.313333   76003.000000\n",
       "std           2.837888   27414.429785\n",
       "min           1.100000   37731.000000\n",
       "25%           3.200000   56720.750000\n",
       "50%           4.700000   65237.000000\n",
       "75%           7.700000  100544.750000\n",
       "max          10.500000  122391.000000"
      ]
     },
     "execution_count": 40,
     "metadata": {},
     "output_type": "execute_result"
    }
   ],
   "source": [
    "# продолжение\n",
    "import pandas as pd\n",
    "import numpy as np\n",
    "import matplotlib.pyplot as pls\n",
    "url = r'https://raw.githubusercontent.com/AnnaShestova/salary-years-simple-linear-regression/master/Salary_Data.csv'\n",
    "dataset = pd.read_csv(url)\n",
    "dataset.head()\n",
    "\n",
    "print(dataset.shape)\n",
    "dataset.describe()"
   ]
  },
  {
   "cell_type": "code",
   "execution_count": 41,
   "id": "4a2ce6d6",
   "metadata": {},
   "outputs": [
    {
     "name": "stdout",
     "output_type": "stream",
     "text": [
      "[[ 1.1]\n",
      " [ 1.3]\n",
      " [ 1.5]\n",
      " [ 2. ]\n",
      " [ 2.2]\n",
      " [ 2.9]\n",
      " [ 3. ]\n",
      " [ 3.2]\n",
      " [ 3.2]\n",
      " [ 3.7]\n",
      " [ 3.9]\n",
      " [ 4. ]\n",
      " [ 4. ]\n",
      " [ 4.1]\n",
      " [ 4.5]\n",
      " [ 4.9]\n",
      " [ 5.1]\n",
      " [ 5.3]\n",
      " [ 5.9]\n",
      " [ 6. ]\n",
      " [ 6.8]\n",
      " [ 7.1]\n",
      " [ 7.9]\n",
      " [ 8.2]\n",
      " [ 8.7]\n",
      " [ 9. ]\n",
      " [ 9.5]\n",
      " [ 9.6]\n",
      " [10.3]\n",
      " [10.5]]\n",
      "[ 39343.  46205.  37731.  43525.  39891.  56642.  60150.  54445.  64445.\n",
      "  57189.  63218.  55794.  56957.  57081.  61111.  67938.  66029.  83088.\n",
      "  81363.  93940.  91738.  98273. 101302. 113812. 109431. 105582. 116969.\n",
      " 112635. 122391. 121872.]\n"
     ]
    }
   ],
   "source": [
    "from sklearn.tree import DecisionTreeRegressor\n",
    "X = dataset.iloc[:, :-1].values\n",
    "y = dataset.iloc[:, 1].values\n",
    "print (X)\n",
    "print (y)\n",
    "\n",
    "X_train, X_test, y_train, y_test = train_test_split(X, y, test_size = 0.2, random_state = 0)\n"
   ]
  },
  {
   "cell_type": "code",
   "execution_count": 42,
   "id": "81ab181f",
   "metadata": {},
   "outputs": [
    {
     "name": "stdout",
     "output_type": "stream",
     "text": [
      "Train/Test Sizes: (404, 13) (102, 13) (404,) (102,)\n"
     ]
    }
   ],
   "source": [
    "X_train, X_test, Y_train, Y_test = train_test_split(X_boston, Y_boston, train_size=0.80, test_size=0.20, random_state=123)\n",
    "print('Train/Test Sizes:', X_train.shape, X_test.shape, Y_train.shape, Y_test.shape)"
   ]
  },
  {
   "cell_type": "code",
   "execution_count": 43,
   "id": "27c6c271",
   "metadata": {},
   "outputs": [
    {
     "data": {
      "text/plain": [
       "MLPRegressor(random_state=123)"
      ]
     },
     "execution_count": 43,
     "metadata": {},
     "output_type": "execute_result"
    }
   ],
   "source": [
    "from sklearn.neural_network import MLPRegressor\n",
    "\n",
    "mlp_regressor = MLPRegressor(random_state=123)\n",
    "mlp_regressor.fit(X_train, Y_train)"
   ]
  },
  {
   "cell_type": "code",
   "execution_count": 48,
   "id": "7c44c907",
   "metadata": {},
   "outputs": [
    {
     "name": "stdout",
     "output_type": "stream",
     "text": [
      "[ 7.32543601 24.33417853 32.46700507 15.19086054 25.6749167  25.07797685\n",
      " 27.20985668  2.62269853 15.25691994 28.02637784]\n",
      "[15.  26.6 45.4 20.8 34.9 21.9 28.7  7.2 20.  32.2]\n",
      "Test Accuracy Score : 0.462\n",
      "Training Accuracy Score : 0.510\n"
     ]
    }
   ],
   "source": [
    "Y_preds = mlp_regressor.predict(X_test)\n",
    "\n",
    "print(Y_preds[:10])\n",
    "print(Y_test[:10])\n",
    "# метод score оценивает точность моделей классификации\n",
    "print('Test Accuracy Score : %.3f'%mlp_regressor.score(X_test, Y_test))\n",
    "print('Training Accuracy Score : %.3f'%mlp_regressor.score(X_train, Y_train))"
   ]
  },
  {
   "cell_type": "code",
   "execution_count": 45,
   "id": "2891dff4",
   "metadata": {},
   "outputs": [
    {
     "name": "stdout",
     "output_type": "stream",
     "text": [
      "Loss: 28.538174061119626\n"
     ]
    }
   ],
   "source": [
    "print('Loss:', mlp_regressor.loss_)"
   ]
  },
  {
   "cell_type": "code",
   "execution_count": 46,
   "id": "5bf906a6",
   "metadata": {},
   "outputs": [
    {
     "name": "stdout",
     "output_type": "stream",
     "text": [
      "Number of Coefs: 2\n"
     ]
    },
    {
     "data": {
      "text/plain": [
       "[(13, 100), (100, 1)]"
      ]
     },
     "execution_count": 46,
     "metadata": {},
     "output_type": "execute_result"
    }
   ],
   "source": [
    "print('Number of Coefs:', len(mlp_regressor.coefs_))\n",
    "[weights.shape for weights in mlp_regressor.coefs_]"
   ]
  },
  {
   "cell_type": "code",
   "execution_count": 47,
   "id": "8c68ffaf",
   "metadata": {},
   "outputs": [
    {
     "name": "stdout",
     "output_type": "stream",
     "text": [
      "Number of Iterations for Which Estimator Ran: 130\n",
      "Name of Output Layer Activation Function: identity\n"
     ]
    }
   ],
   "source": [
    "print('Number of Iterations for Which Estimator Ran:', mlp_regressor.n_iter_)\n",
    "print('Name of Output Layer Activation Function:', mlp_regressor.out_activation_)"
   ]
  },
  {
   "cell_type": "code",
   "execution_count": null,
   "id": "9e54b7c5",
   "metadata": {},
   "outputs": [],
   "source": []
  }
 ],
 "metadata": {
  "kernelspec": {
   "display_name": "Python 3 (ipykernel)",
   "language": "python",
   "name": "python3"
  },
  "language_info": {
   "codemirror_mode": {
    "name": "ipython",
    "version": 3
   },
   "file_extension": ".py",
   "mimetype": "text/x-python",
   "name": "python",
   "nbconvert_exporter": "python",
   "pygments_lexer": "ipython3",
   "version": "3.9.7"
  }
 },
 "nbformat": 4,
 "nbformat_minor": 5
}
